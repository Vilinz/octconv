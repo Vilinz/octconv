{
 "cells": [
  {
   "cell_type": "code",
   "execution_count": 2,
   "metadata": {},
   "outputs": [],
   "source": [
    "import torch\n",
    "import torchvision\n",
    "import torch.optim as optim\n",
    "import torch.nn as nn\n",
    "import torch.nn.functional as F\n",
    "import torchvision.transforms as transforms\n",
    "from torch.optim import lr_scheduler\n",
    "import numpy as np\n",
    "import matplotlib.pyplot as plt\n",
    "\n",
    "from Resnet import Bottleneck\n",
    "from Resnet import resnet50\n",
    "\n",
    "from util import show_curve_double\n",
    "from util import save_loss, get50_from_file\n",
    "\n",
    "device = torch.device(\"cuda:1\" if torch.cuda.is_available() else \"cpu\")\n",
    "alpha = 0.125"
   ]
  },
  {
   "cell_type": "markdown",
   "metadata": {},
   "source": [
    "两个不同frequency下的进行卷积操作，同时有信息交流。low-frequency通过上采样向high-frequency传递消息，high-frequency通过下采样向low-frequency传递消息。"
   ]
  },
  {
   "cell_type": "code",
   "execution_count": 2,
   "metadata": {},
   "outputs": [],
   "source": [
    "class OctConv(nn.Module):\n",
    "    def __init__(self, in_channels, out_channels, kernel_size, alpha=alpha, stride=1, padding=1, dilation=1, groups=1, bias=False):\n",
    "        super(OctConv, self).__init__()\n",
    "        kernel_size = kernel_size[0]\n",
    "        self.stride = stride\n",
    "        # h->h/2 w->w/2\n",
    "        self.downsample = nn.AvgPool2d(kernel_size=(2,2), stride=2)\n",
    "        # h/2->h w/2->w\n",
    "        self.upsample = nn.Upsample(scale_factor=2, mode='nearest')\n",
    "        self.l2l = nn.Conv2d(int(alpha*in_channels), int(alpha*out_channels), \n",
    "                             kernel_size, 1, padding, dilation, groups, bias)\n",
    "        self.l2h = nn.Conv2d(int(alpha*in_channels), out_channels - int(alpha*out_channels), \n",
    "                             kernel_size, 1, padding, dilation, groups, bias)\n",
    "        self.h2l = nn.Conv2d(in_channels - int(alpha*in_channels), int(alpha*out_channels), \n",
    "                             kernel_size, 1, padding, dilation, groups, bias)\n",
    "        self.h2h = nn.Conv2d(in_channels - int(alpha*in_channels), out_channels - int(alpha*out_channels), \n",
    "                             kernel_size, 1, padding, dilation, groups, bias)\n",
    "    def forward(self, x):\n",
    "        x_h, x_l = x if type(x) is tuple else (x, None)\n",
    "        if self.stride == 2:\n",
    "            x_h = self.downsample(x_h)\n",
    "            x_l = self.downsample(x_l)\n",
    "        x_h2l = self.downsample(x_h)\n",
    "        x_h2l = self.h2l(x_h2l)\n",
    "        \n",
    "        x_h2h = self.h2h(x_h)\n",
    "        \n",
    "        x_l2l = self.l2l(x_l)\n",
    "        x_l2h = self.l2h(x_l)\n",
    "        x_l2h = self.upsample(x_l2h)\n",
    "        \n",
    "        x_h = x_l2h + x_h2h\n",
    "        x_l = x_h2l + x_l2l\n",
    "        \n",
    "        return x_h, x_l"
   ]
  },
  {
   "cell_type": "markdown",
   "metadata": {},
   "source": [
    "在1个输入的情况下进行OctConv操作的第一步，需要对单输入分割成low-frequency和high-frequency两部分。"
   ]
  },
  {
   "cell_type": "code",
   "execution_count": 3,
   "metadata": {},
   "outputs": [],
   "source": [
    "class OctConv_first(nn.Module):\n",
    "    def __init__(self, in_channels, out_channels, kernel_size, alpha=alpha, stride=1, padding=1, dilation=1, groups=1, bias=False):\n",
    "        super(OctConv_first, self).__init__()\n",
    "        kernel_size = kernel_size[0]\n",
    "        self.stride = stride\n",
    "        # h->h/2 w->w/2\n",
    "        self.downsample = nn.AvgPool2d(kernel_size=(2,2), stride=2)\n",
    "        self.h2l = nn.Conv2d(in_channels, int(alpha*out_channels), \n",
    "                             kernel_size, 1, padding, dilation, groups, bias)\n",
    "        self.h2h = nn.Conv2d(in_channels, out_channels - int(alpha*out_channels), \n",
    "                             kernel_size, 1, padding, dilation, groups, bias)\n",
    "        \n",
    "    def forward(self, x):\n",
    "        if self.stride == 2:\n",
    "            x = self.downsample(x)\n",
    "        \n",
    "        x_h2l = self.downsample(x)\n",
    "        x_h = x\n",
    "        x_h = self.h2h(x_h)\n",
    "        x_l = self.h2l(x_h2l)\n",
    "        \n",
    "        return x_h, x_l"
   ]
  },
  {
   "cell_type": "markdown",
   "metadata": {},
   "source": [
    "在卷积的最后一部分，要将分别进行操作的low-frequency和high-frequency合并。"
   ]
  },
  {
   "cell_type": "code",
   "execution_count": 4,
   "metadata": {},
   "outputs": [],
   "source": [
    "class OctConv_last(nn.Module):\n",
    "    def __init__(self, in_channels, out_channels, kernel_size, alpha=alpha, stride=1, padding=1, dilation=1, groups=1, bias=False):\n",
    "        super(OctConv_last, self).__init__()\n",
    "        kernel_size = kernel_size[0]\n",
    "        self.stride = stride\n",
    "        # h->h/2 w->w/2\n",
    "        self.downsample = nn.AvgPool2d(kernel_size=(2,2), stride=2)\n",
    "        \n",
    "        self.upsample = nn.Upsample(scale_factor=2, mode='nearest')\n",
    "        self.l2h = nn.Conv2d(int(alpha*in_channels), out_channels, \n",
    "                             kernel_size, 1, padding, dilation, groups, bias)\n",
    "        self.h2h = nn.Conv2d(in_channels - int(alpha*in_channels), out_channels, \n",
    "                             kernel_size, 1, padding, dilation, groups, bias)\n",
    "        \n",
    "    def forward(self, x):\n",
    "        x_h, x_l = x\n",
    "        if self.stride == 2:\n",
    "            x_h = self.downsample(x_h)\n",
    "            x_l = self.downsample(x_l)\n",
    "        \n",
    "        x_l2h = self.l2h(x_l)\n",
    "        x_l2h = self.upsample(x_l2h)\n",
    "        x_h2h = self.h2h(x_h)\n",
    "        x_h = x_h2h + x_l2h\n",
    "        \n",
    "        return x_h"
   ]
  },
  {
   "cell_type": "markdown",
   "metadata": {},
   "source": [
    "加了正则化的OctConv，与原始的Resnet进行对应。"
   ]
  },
  {
   "cell_type": "code",
   "execution_count": 5,
   "metadata": {},
   "outputs": [],
   "source": [
    "class OctConv_bn(nn.Module):\n",
    "    def __init__(self, in_channels, out_channels, kernel_size=(3,3), alpha=alpha, stride=1, padding=1, dilation=1, groups=1, bias=False, norm_layer=nn.BatchNorm2d):\n",
    "        super(OctConv_bn, self).__init__()\n",
    "        self.conv = OctConv(in_channels, out_channels, kernel_size, alpha, stride, padding, dilation,groups, bias)\n",
    "        self.bn_h = norm_layer(int(out_channels * (1 - alpha)))\n",
    "        self.bn_l = norm_layer(int(out_channels * alpha))\n",
    "\n",
    "    def forward(self, x):\n",
    "        x_h, x_l = self.conv(x)\n",
    "        x_h = self.bn_h(x_h)\n",
    "        x_l = self.bn_l(x_l)\n",
    "        return x_h, x_l\n",
    "\n",
    "\n"
   ]
  },
  {
   "cell_type": "markdown",
   "metadata": {},
   "source": [
    "Resnet模块"
   ]
  },
  {
   "cell_type": "code",
   "execution_count": 6,
   "metadata": {},
   "outputs": [],
   "source": [
    "class Bottleneck_first_middle(nn.Module):\n",
    "    expansion = 4\n",
    "\n",
    "    def __init__(self, inplanes, planes, stride=1, downsample=None, groups=1, base_width=64, norm_layer=None, First=False, alpha = alpha):\n",
    "        super(Bottleneck_first_middle, self).__init__()\n",
    "        if norm_layer is None:\n",
    "            norm_layer = nn.BatchNorm2d\n",
    "        width = int(planes * (base_width / 64.)) * groups\n",
    "        # Both self.conv2 and self.downsample layers downsample the input when stride != 1\n",
    "        self.First = First\n",
    "        \n",
    "        #bn\n",
    "        self.bn_h = norm_layer(int(width*(1-alpha)))\n",
    "        self.bn_l = norm_layer(int(width*alpha))\n",
    "        self.bn_h_last = norm_layer(int(planes*self.expansion*(1-alpha)))\n",
    "        self.bn_l_last = norm_layer(int(planes*self.expansion*alpha))\n",
    "        \n",
    "        #relu\n",
    "        if self.First:\n",
    "            self.conv1 =OctConv_first(inplanes, width, kernel_size=(1,1), padding=0)\n",
    "        else:\n",
    "            self.conv1 = OctConv(inplanes, width, kernel_size=(1,1), padding=0)\n",
    "        self.conv2 = OctConv(width, width, kernel_size=(3,3),stride=stride, groups=groups)\n",
    "        self.conv3 = OctConv(width, planes*self.expansion, kernel_size=(1,1), padding=0)\n",
    "        self.relu = nn.ReLU(inplace=True)\n",
    "        self.downsample = downsample\n",
    "        self.stride = stride\n",
    "        \n",
    "\n",
    "    def forward(self, x):\n",
    "        x_h_out, x_l_out = x if type(x) is tuple else (x, None)\n",
    "        if self.First:\n",
    "            x_h_out, x_l_out = self.conv1(x_h_out)\n",
    "            x_h_out = self.relu(self.bn_h(x_h_out))\n",
    "            x_l_out = self.relu(self.bn_l(x_l_out))\n",
    "            x_h, x_l = self.conv2((x_h_out, x_l_out))\n",
    "            x_h = self.relu(self.bn_h(x_h))\n",
    "            x_l = self.relu(self.bn_l(x_l))\n",
    "        else:\n",
    "            x_h, x_l = self.conv1((x_h_out, x_l_out))\n",
    "            x_h = self.relu(self.bn_h(x_h))\n",
    "            x_l = self.relu(self.bn_l(x_l))\n",
    "            x_h, x_l = self.conv2((x_h, x_l))\n",
    "            x_h = self.relu(self.bn_h(x_h))\n",
    "            x_l = self.relu(self.bn_l(x_l))\n",
    "        x_h, x_l = self.conv3((x_h, x_l))\n",
    "        x_h = self.bn_h_last(x_h)\n",
    "        x_l = self.bn_l_last(x_l)\n",
    "        \n",
    "        if self.downsample is not None:\n",
    "            x_h_out, x_l_out = self.downsample((x_h_out, x_l_out))\n",
    "        \n",
    "        x_h = x_h + x_h_out\n",
    "        x_l = x_l + x_l_out\n",
    "        \n",
    "        x_h = self.relu(x_h)\n",
    "        x_l = self.relu(x_l)\n",
    "        \n",
    "        return x_h, x_l"
   ]
  },
  {
   "cell_type": "code",
   "execution_count": 7,
   "metadata": {},
   "outputs": [],
   "source": [
    "class Bottleneck_last(nn.Module):\n",
    "    expansion = 4\n",
    "\n",
    "    def __init__(self, inplanes, planes, stride=1, downsample=None, groups=1,\n",
    "                 base_width=64, norm_layer=None, alpha=alpha):\n",
    "        super(Bottleneck_last, self).__init__()\n",
    "        if norm_layer is None:\n",
    "            norm_layer = nn.BatchNorm2d\n",
    "        width = int(planes * (base_width / 64.)) * groups\n",
    "        # Both self.conv2 and self.downsample layers downsample the input when stride != 1\n",
    "        self.conv1 = OctConv(inplanes, width, kernel_size=(1,1), padding=0)\n",
    "        self.conv2 = OctConv(width, width, kernel_size=(3,3),stride=stride, groups=groups)\n",
    "        self.conv3 = OctConv_last(width, planes*self.expansion, kernel_size=(1,1), padding=0)\n",
    "        self.relu = nn.ReLU(inplace=True)\n",
    "        self.downsample = downsample\n",
    "        self.stride = stride\n",
    "        \n",
    "        #bn\n",
    "        self.bn_h = norm_layer(int(width*(1-alpha)))\n",
    "        self.bn_l = norm_layer(int(width*alpha))\n",
    "        self.bn_h_last = norm_layer(planes*self.expansion)\n",
    "        \n",
    "\n",
    "    def forward(self, x):\n",
    "        x_h_out, x_l_out = x\n",
    "        x_h, x_l = self.conv1((x_h_out, x_l_out))\n",
    "        x_h = self.relu(self.bn_h(x_h))\n",
    "        x_l = self.relu(self.bn_l(x_l))\n",
    "        x_h, x_l = self.conv2((x_h, x_l))\n",
    "        x_h = self.relu(self.bn_h(x_h))\n",
    "        x_l = self.relu(self.bn_l(x_l))\n",
    "        x_h = self.conv3((x_h, x_l))\n",
    "        x_h = self.bn_h_last(x_h)\n",
    "        \n",
    "        if self.downsample is not None:\n",
    "            x_h_out = self.downsample((x_h_out, x_l_out))\n",
    "        \n",
    "        x_h = x_h + x_h_out\n",
    "        x_h = self.relu(x_h)\n",
    "        \n",
    "        return x_h"
   ]
  },
  {
   "cell_type": "markdown",
   "metadata": {},
   "source": [
    "Resnet模型，通过官网找到的原始模型，然后就行修改。"
   ]
  },
  {
   "cell_type": "code",
   "execution_count": 8,
   "metadata": {},
   "outputs": [],
   "source": [
    "class OCtaveResNet(nn.Module):\n",
    "\n",
    "    def __init__(self, block, layers, num_classes=10, zero_init_residual=False,\n",
    "                 groups=1, width_per_group=64, norm_layer=None):\n",
    "        super(OCtaveResNet, self).__init__()\n",
    "        if norm_layer is None:\n",
    "            norm_layer = nn.BatchNorm2d\n",
    "\n",
    "        self.inplanes = 64\n",
    "        self.groups = groups\n",
    "        self.base_width = width_per_group\n",
    "        self.conv1 = nn.Conv2d(3, self.inplanes, kernel_size=7, stride=2, padding=3,\n",
    "                               bias=False)\n",
    "        self.bn1 = norm_layer(self.inplanes)\n",
    "        self.relu = nn.ReLU(inplace=True)\n",
    "        self.maxpool = nn.MaxPool2d(kernel_size=3, stride=2, padding=1)\n",
    "\n",
    "        self.layer1 = self._make_layer(block, 64, layers[0], norm_layer=norm_layer, First=True)\n",
    "        self.layer2 = self._make_layer(block, 128, layers[1], stride=2, norm_layer=norm_layer)\n",
    "        self.layer3 = self._make_layer(block, 256, layers[2], stride=2, norm_layer=norm_layer)\n",
    "        self.layer4 = self._make_layer(block, 512, layers[3], stride=2, norm_layer=norm_layer, Last=True)\n",
    "        self.avgpool = nn.AdaptiveAvgPool2d((1, 1))\n",
    "        self.fc = nn.Linear(512 * block.expansion, num_classes)\n",
    "\n",
    "        for m in self.modules():\n",
    "            if isinstance(m, nn.Conv2d):\n",
    "                nn.init.kaiming_normal_(m.weight, mode='fan_out', nonlinearity='relu')\n",
    "            elif isinstance(m, (nn.BatchNorm2d, nn.GroupNorm)):\n",
    "                nn.init.constant_(m.weight, 1)\n",
    "                nn.init.constant_(m.bias, 0)\n",
    "\n",
    "        # Zero-initialize the last BN in each residual branch,\n",
    "        # so that the residual branch starts with zeros, and each residual block behaves like an identity.\n",
    "        # This improves the model by 0.2~0.3% according to https://arxiv.org/abs/1706.02677\n",
    "        if zero_init_residual:\n",
    "            for m in self.modules():\n",
    "                if isinstance(m, Bottleneck):\n",
    "                    nn.init.constant_(m.bn3.weight, 0)\n",
    "                elif isinstance(m, BasicBlock):\n",
    "                    nn.init.constant_(m.bn2.weight, 0)\n",
    "\n",
    "    def _make_layer(self, block, planes, blocks, stride=1, norm_layer=None, First=False, Last=False):\n",
    "        if norm_layer is None:\n",
    "            norm_layer = nn.BatchNorm2d\n",
    "        downsample = None\n",
    "        if Last:\n",
    "            if stride != 1 or self.inplanes != planes * block.expansion:\n",
    "                downsample = nn.Sequential(\n",
    "                    OctConv_last(in_channels=self.inplanes,out_channels=planes * block.expansion, kernel_size=(1,1), stride=stride, \n",
    "                                    padding=0),\n",
    "                    nn.BatchNorm2d(planes * block.expansion)\n",
    "                )\n",
    "            layers = []\n",
    "            layers.append(Bottleneck_last(self.inplanes, planes, stride, downsample, self.groups, self.base_width, norm_layer))\n",
    "            self.inplanes = planes * block.expansion\n",
    "\n",
    "            for _ in range(1, blocks):\n",
    "                layers.append(Bottleneck(self.inplanes, planes, groups=self.groups, base_width=self.base_width, norm_layer=norm_layer))\n",
    "        else: \n",
    "            if stride != 1 or self.inplanes != planes * block.expansion:\n",
    "                downsample = nn.Sequential(\n",
    "                    OctConv_bn(in_channels=self.inplanes,out_channels=planes * block.expansion, kernel_size=(1,1), stride=stride, padding=0)\n",
    "                )\n",
    "\n",
    "            layers = []\n",
    "            layers.append(block(self.inplanes, planes, stride, downsample, self.groups, self.base_width, norm_layer, First))\n",
    "            self.inplanes = planes * block.expansion\n",
    "            for _ in range(1, blocks):\n",
    "                layers.append(block(self.inplanes, planes, groups=self.groups,base_width=self.base_width, norm_layer=norm_layer))\n",
    "\n",
    "        return nn.Sequential(*layers)\n",
    "\n",
    "    def forward(self, x):\n",
    "        x = self.conv1(x)\n",
    "        x = self.bn1(x)\n",
    "        x = self.relu(x)\n",
    "        x = self.maxpool(x)\n",
    "\n",
    "        x_h, x_l = self.layer1(x)\n",
    "        x_h, x_l = self.layer2((x_h,x_l))\n",
    "        x_h, x_l = self.layer3((x_h,x_l))\n",
    "        x_h = self.layer4((x_h,x_l))\n",
    "        x = self.avgpool(x_h)\n",
    "        x = x.view(x.size(0), -1)\n",
    "        x = self.fc(x)\n",
    "\n",
    "        return x"
   ]
  },
  {
   "cell_type": "code",
   "execution_count": 9,
   "metadata": {},
   "outputs": [],
   "source": [
    "def OctResnet50(pretrained=False, **kwargs):\n",
    "    \"\"\"Constructs a ResNet-50 model.\n",
    "    Args:\n",
    "        pretrained (bool): If True, returns a model pre-trained on ImageNet\n",
    "    \"\"\"\n",
    "    model = OCtaveResNet(Bottleneck_first_middle, [3, 4, 6, 3], **kwargs)\n",
    "    return model"
   ]
  },
  {
   "cell_type": "code",
   "execution_count": 10,
   "metadata": {},
   "outputs": [],
   "source": [
    "def train(epochs, model, criterion, optimizer, device, trainloader, testloader):\n",
    "    data_size = len(trainloader)\n",
    "    model.train()\n",
    "    \n",
    "    loss_arr = []\n",
    "    acc_arr = []\n",
    "    for i in range(epochs):\n",
    "        print('Epoch: {}/{}'.format(i + 1, epochs))\n",
    "        running_loss = 0\n",
    "        running_corrects = 0\n",
    "        for i, (inputs, labels) in enumerate(trainloader):\n",
    "            running_corrects = 0\n",
    "            inputs = inputs.to(device)\n",
    "            labels = labels.to(device)\n",
    "\n",
    "            optimizer.zero_grad()\n",
    "            outputs = model(inputs)\n",
    "\n",
    "            loss = criterion(outputs, labels)\n",
    "            loss.backward()\n",
    "            optimizer.step()\n",
    "            running_loss += loss.item()\n",
    "        avg_loss = running_loss/data_size\n",
    "        print('Loss: {:.4f}'.format(avg_loss))\n",
    "        print('evaluating...')\n",
    "        acc = eval(model, device, testloader)\n",
    "        acc_arr.append(acc)\n",
    "        loss_arr.append(avg_loss)\n",
    "        print('acc', acc)\n",
    "             \n",
    "    return model, loss_arr, acc_arr"
   ]
  },
  {
   "cell_type": "code",
   "execution_count": 11,
   "metadata": {},
   "outputs": [],
   "source": [
    "def eval(model, device, testloader):\n",
    "    correct = 0\n",
    "    total = 0\n",
    "    for i, (images, labels) in enumerate(testloader):\n",
    "        images = images.to(device)\n",
    "        labels = labels.to(device)\n",
    "        outputs = model(images)\n",
    "        _, predicted = torch.max(outputs.data, 1)\n",
    "        total += labels.size(0)\n",
    "        correct += (predicted == labels).sum().item()\n",
    "    return (correct / total)"
   ]
  },
  {
   "cell_type": "code",
   "execution_count": 12,
   "metadata": {},
   "outputs": [],
   "source": [
    "batch_size=100\n",
    "lr = 0.001\n",
    "epochs = 50"
   ]
  },
  {
   "cell_type": "markdown",
   "metadata": {},
   "source": [
    "取CIFAR10这个数据集进行训练。"
   ]
  },
  {
   "cell_type": "code",
   "execution_count": 13,
   "metadata": {},
   "outputs": [
    {
     "name": "stdout",
     "output_type": "stream",
     "text": [
      "Files already downloaded and verified\n",
      "Files already downloaded and verified\n"
     ]
    }
   ],
   "source": [
    "transform_train = transforms.Compose(\n",
    "    [\n",
    "        transforms.RandomCrop(32, padding=4),\n",
    "        transforms.RandomHorizontalFlip(),\n",
    "        transforms.ToTensor(),\n",
    "        transforms.Normalize(mean=[0.507, 0.487, 0.441], std=[0.267, 0.256, 0.276]),\n",
    "    ])\n",
    "\n",
    "transform_test = transforms.Compose(\n",
    "    [\n",
    "        transforms.ToTensor(),\n",
    "        transforms.Normalize(mean=[0.507, 0.487, 0.441], std=[0.267, 0.256, 0.276]),\n",
    "    ])\n",
    "\n",
    "trainset = torchvision.datasets.CIFAR10(root='./../data', train=True,\n",
    "                                        download=True, transform=transform_train)\n",
    "trainloader = torch.utils.data.DataLoader(trainset, batch_size=batch_size,\n",
    "                                          shuffle=True)\n",
    "\n",
    "testset = torchvision.datasets.CIFAR10(root='./../data', train=False,\n",
    "                                       download=True, transform=transform_test)\n",
    "testloader = torch.utils.data.DataLoader(testset, batch_size=batch_size,\n",
    "                                         shuffle=False)"
   ]
  },
  {
   "cell_type": "code",
   "execution_count": 14,
   "metadata": {},
   "outputs": [],
   "source": [
    "octconv_model = OctResnet50()\n",
    "octconv_model.to(device)\n",
    "\n",
    "criterion = nn.CrossEntropyLoss() \n",
    "optimizer = optim.Adam(octconv_model.parameters(), lr=lr, weight_decay=5e-4)"
   ]
  },
  {
   "cell_type": "code",
   "execution_count": 15,
   "metadata": {},
   "outputs": [
    {
     "name": "stdout",
     "output_type": "stream",
     "text": [
      "Epoch: 1/50\n"
     ]
    },
    {
     "name": "stderr",
     "output_type": "stream",
     "text": [
      "/opt/conda/lib/python3.6/site-packages/torch/nn/modules/upsampling.py:129: UserWarning: nn.Upsample is deprecated. Use nn.functional.interpolate instead.\n",
      "  warnings.warn(\"nn.{} is deprecated. Use nn.functional.interpolate instead.\".format(self.name))\n"
     ]
    },
    {
     "name": "stdout",
     "output_type": "stream",
     "text": [
      "Loss: 1.8996\n",
      "evaluating...\n",
      "acc 0.4294\n",
      "Epoch: 2/50\n",
      "Loss: 1.5706\n",
      "evaluating...\n",
      "acc 0.4858\n",
      "Epoch: 3/50\n",
      "Loss: 1.3682\n",
      "evaluating...\n",
      "acc 0.5407\n",
      "Epoch: 4/50\n",
      "Loss: 1.2152\n",
      "evaluating...\n",
      "acc 0.5952\n",
      "Epoch: 5/50\n",
      "Loss: 1.1067\n",
      "evaluating...\n",
      "acc 0.6374\n",
      "Epoch: 6/50\n",
      "Loss: 1.0253\n",
      "evaluating...\n",
      "acc 0.6593\n",
      "Epoch: 7/50\n",
      "Loss: 0.9724\n",
      "evaluating...\n",
      "acc 0.665\n",
      "Epoch: 8/50\n",
      "Loss: 0.9203\n",
      "evaluating...\n",
      "acc 0.6585\n",
      "Epoch: 9/50\n",
      "Loss: 0.8723\n",
      "evaluating...\n",
      "acc 0.6969\n",
      "Epoch: 10/50\n",
      "Loss: 0.8375\n",
      "evaluating...\n",
      "acc 0.6999\n",
      "Epoch: 11/50\n",
      "Loss: 0.8048\n",
      "evaluating...\n",
      "acc 0.7132\n",
      "Epoch: 12/50\n",
      "Loss: 0.7697\n",
      "evaluating...\n",
      "acc 0.7295\n",
      "Epoch: 13/50\n",
      "Loss: 0.7457\n",
      "evaluating...\n",
      "acc 0.7292\n",
      "Epoch: 14/50\n",
      "Loss: 0.7222\n",
      "evaluating...\n",
      "acc 0.7224\n",
      "Epoch: 15/50\n",
      "Loss: 0.6933\n",
      "evaluating...\n",
      "acc 0.7376\n",
      "Epoch: 16/50\n",
      "Loss: 0.6750\n",
      "evaluating...\n",
      "acc 0.7481\n",
      "Epoch: 17/50\n",
      "Loss: 0.6557\n",
      "evaluating...\n",
      "acc 0.7501\n",
      "Epoch: 18/50\n",
      "Loss: 0.6508\n",
      "evaluating...\n",
      "acc 0.7621\n",
      "Epoch: 19/50\n",
      "Loss: 0.6292\n",
      "evaluating...\n",
      "acc 0.7652\n",
      "Epoch: 20/50\n",
      "Loss: 0.6190\n",
      "evaluating...\n",
      "acc 0.7615\n",
      "Epoch: 21/50\n",
      "Loss: 0.6018\n",
      "evaluating...\n",
      "acc 0.7665\n",
      "Epoch: 22/50\n",
      "Loss: 0.5878\n",
      "evaluating...\n",
      "acc 0.7712\n",
      "Epoch: 23/50\n",
      "Loss: 0.5798\n",
      "evaluating...\n",
      "acc 0.7777\n",
      "Epoch: 24/50\n",
      "Loss: 0.5679\n",
      "evaluating...\n",
      "acc 0.7818\n",
      "Epoch: 25/50\n",
      "Loss: 0.5545\n",
      "evaluating...\n",
      "acc 0.7691\n",
      "Epoch: 26/50\n",
      "Loss: 0.5459\n",
      "evaluating...\n",
      "acc 0.7777\n",
      "Epoch: 27/50\n",
      "Loss: 0.5445\n",
      "evaluating...\n",
      "acc 0.7835\n",
      "Epoch: 28/50\n",
      "Loss: 0.5323\n",
      "evaluating...\n",
      "acc 0.7982\n",
      "Epoch: 29/50\n",
      "Loss: 0.5262\n",
      "evaluating...\n",
      "acc 0.7946\n",
      "Epoch: 30/50\n",
      "Loss: 0.5073\n",
      "evaluating...\n",
      "acc 0.7938\n",
      "Epoch: 31/50\n",
      "Loss: 0.5148\n",
      "evaluating...\n",
      "acc 0.7918\n",
      "Epoch: 32/50\n",
      "Loss: 0.5062\n",
      "evaluating...\n",
      "acc 0.7904\n",
      "Epoch: 33/50\n",
      "Loss: 0.5015\n",
      "evaluating...\n",
      "acc 0.7944\n",
      "Epoch: 34/50\n",
      "Loss: 0.4949\n",
      "evaluating...\n",
      "acc 0.8077\n",
      "Epoch: 35/50\n",
      "Loss: 0.4913\n",
      "evaluating...\n",
      "acc 0.7993\n",
      "Epoch: 36/50\n",
      "Loss: 0.4825\n",
      "evaluating...\n",
      "acc 0.7947\n",
      "Epoch: 37/50\n",
      "Loss: 0.4824\n",
      "evaluating...\n",
      "acc 0.798\n",
      "Epoch: 38/50\n",
      "Loss: 0.4684\n",
      "evaluating...\n",
      "acc 0.7935\n",
      "Epoch: 39/50\n",
      "Loss: 0.4717\n",
      "evaluating...\n",
      "acc 0.8011\n",
      "Epoch: 40/50\n",
      "Loss: 0.4667\n",
      "evaluating...\n",
      "acc 0.7971\n",
      "Epoch: 41/50\n",
      "Loss: 0.4621\n",
      "evaluating...\n",
      "acc 0.8097\n",
      "Epoch: 42/50\n",
      "Loss: 0.4582\n",
      "evaluating...\n",
      "acc 0.8051\n",
      "Epoch: 43/50\n",
      "Loss: 0.4499\n",
      "evaluating...\n",
      "acc 0.8118\n",
      "Epoch: 44/50\n",
      "Loss: 0.4527\n",
      "evaluating...\n",
      "acc 0.7988\n",
      "Epoch: 45/50\n",
      "Loss: 0.4444\n",
      "evaluating...\n",
      "acc 0.8062\n",
      "Epoch: 46/50\n",
      "Loss: 0.4426\n",
      "evaluating...\n",
      "acc 0.804\n",
      "Epoch: 47/50\n",
      "Loss: 0.4419\n",
      "evaluating...\n",
      "acc 0.8104\n",
      "Epoch: 48/50\n",
      "Loss: 0.4387\n",
      "evaluating...\n",
      "acc 0.8088\n",
      "Epoch: 49/50\n",
      "Loss: 0.4368\n",
      "evaluating...\n",
      "acc 0.8186\n",
      "Epoch: 50/50\n",
      "Loss: 0.4315\n",
      "evaluating...\n",
      "acc 0.8136\n"
     ]
    }
   ],
   "source": [
    "octconv_model, octconvmodel_loss_arr, octconv_model_acc_arr = train(epochs, octconv_model, criterion, optimizer, device, trainloader, testloader)"
   ]
  },
  {
   "cell_type": "code",
   "execution_count": 17,
   "metadata": {},
   "outputs": [],
   "source": [
    "octconv_model_loss_arr = octconvmodel_loss_arr"
   ]
  },
  {
   "cell_type": "code",
   "execution_count": 18,
   "metadata": {},
   "outputs": [
    {
     "name": "stdout",
     "output_type": "stream",
     "text": [
      "[1.9712905442714692, 1.7499365067481996, 1.531937942504883, 1.3632099587917328, 1.2203180820941926, 1.1120110449790954, 1.0279581179618835, 0.9671618258953094, 0.9112887133359909, 0.8678098760843277, 0.8243411712646485, 0.7944741854667664, 0.7666139769554138, 0.7507836573719978, 0.7194160367846489, 0.6965897244215011, 0.6781443443894386, 0.661914342880249, 0.6470955694913865, 0.6362280255556106, 0.6181924668550491, 0.6037128918766975, 0.5922386187314987, 0.5829640317559243, 0.5725806069374084, 0.5614102759361267, 0.5551212592124939, 0.5503013644814492, 0.540976665854454, 0.5360103365778923, 0.5314547255635261, 0.5252498815655708, 0.514525161087513, 0.5126970479488373, 0.5074298129081726, 0.5044167582988739, 0.4997206012904644, 0.49216755843162535, 0.49113959127664564, 0.49239059460163115, 0.4798654347658157, 0.48308839842677115, 0.474091443836689, 0.46915300354361533, 0.46880560621619227, 0.46780722069740294, 0.4663490367531776, 0.45736898693442346, 0.45478668686747553, 0.45870297646522523]\n",
      "[0.3659, 0.426, 0.4932, 0.5323, 0.5881, 0.6242, 0.6346, 0.6771, 0.6909, 0.6942, 0.7064, 0.7054, 0.7201, 0.7237, 0.739, 0.7498, 0.7417, 0.7515, 0.759, 0.77, 0.7474, 0.761, 0.7735, 0.78, 0.7709, 0.7598, 0.7906, 0.7943, 0.7871, 0.7914, 0.7943, 0.7823, 0.7901, 0.7914, 0.7912, 0.7888, 0.7826, 0.806, 0.805, 0.8012, 0.7997, 0.7919, 0.8055, 0.791, 0.7924, 0.7982, 0.7978, 0.7963, 0.7987, 0.7967]\n"
     ]
    }
   ],
   "source": [
    "origin_model_loss_arr = get50_from_file('./../result/loss_ori.txt')\n",
    "origin_model_acc_arr = get50_from_file('./../result/acc_ori.txt')"
   ]
  },
  {
   "cell_type": "code",
   "execution_count": 19,
   "metadata": {},
   "outputs": [
    {
     "data": {
      "image/png": "[encoded data removed]",
      "text/plain": [
       "<Figure size 432x288 with 1 Axes>"
      ]
     },
     "metadata": {
      "needs_background": "light"
     },
     "output_type": "display_data"
    }
   ],
   "source": [
    "show_curve_double(origin_model_loss_arr, octconv_model_loss_arr, 'loss', 'upper right')"
   ]
  },
  {
   "cell_type": "code",
   "execution_count": 20,
   "metadata": {},
   "outputs": [
    {
     "data": {
      "image/png": "[encoded data removed]",
      "text/plain": [
       "<Figure size 432x288 with 1 Axes>"
      ]
     },
     "metadata": {
      "needs_background": "light"
     },
     "output_type": "display_data"
    }
   ],
   "source": [
    "show_curve_double(origin_model_acc_arr, octconv_model_acc_arr,'acc', 'lower right')"
   ]
  },
  {
   "cell_type": "code",
   "execution_count": 21,
   "metadata": {},
   "outputs": [],
   "source": [
    "save_loss(str(octconv_model_loss_arr), str(octconv_model_acc_arr), './../result/loss_0.50.txt', './../result/acc_0.50.txt')"
   ]
  },
  {
   "cell_type": "code",
   "execution_count": 4,
   "metadata": {},
   "outputs": [
    {
     "name": "stdout",
     "output_type": "stream",
     "text": [
      "[0.3659, 0.426, 0.4932, 0.5323, 0.5881, 0.6242, 0.6346, 0.6771, 0.6909, 0.6942, 0.7064, 0.7054, 0.7201, 0.7237, 0.739, 0.7498, 0.7417, 0.7515, 0.759, 0.77, 0.7474, 0.761, 0.7735, 0.78, 0.7709, 0.7598, 0.7906, 0.7943, 0.7871, 0.7914, 0.7943, 0.7823, 0.7901, 0.7914, 0.7912, 0.7888, 0.7826, 0.806, 0.805, 0.8012, 0.7997, 0.7919, 0.8055, 0.791, 0.7924, 0.7982, 0.7978, 0.7963, 0.7987, 0.7967]\n",
      "[1.9712905442714692, 1.7499365067481996, 1.531937942504883, 1.3632099587917328, 1.2203180820941926, 1.1120110449790954, 1.0279581179618835, 0.9671618258953094, 0.9112887133359909, 0.8678098760843277, 0.8243411712646485, 0.7944741854667664, 0.7666139769554138, 0.7507836573719978, 0.7194160367846489, 0.6965897244215011, 0.6781443443894386, 0.661914342880249, 0.6470955694913865, 0.6362280255556106, 0.6181924668550491, 0.6037128918766975, 0.5922386187314987, 0.5829640317559243, 0.5725806069374084, 0.5614102759361267, 0.5551212592124939, 0.5503013644814492, 0.540976665854454, 0.5360103365778923, 0.5314547255635261, 0.5252498815655708, 0.514525161087513, 0.5126970479488373, 0.5074298129081726, 0.5044167582988739, 0.4997206012904644, 0.49216755843162535, 0.49113959127664564, 0.49239059460163115, 0.4798654347658157, 0.48308839842677115, 0.474091443836689, 0.46915300354361533, 0.46880560621619227, 0.46780722069740294, 0.4663490367531776, 0.45736898693442346, 0.45478668686747553, 0.45870297646522523]\n",
      "[0.4461, 0.5311, 0.5859, 0.6379, 0.6658, 0.6929, 0.6991, 0.7138, 0.7319, 0.7339, 0.7442, 0.754, 0.7636, 0.7614, 0.7717, 0.7754, 0.786, 0.7858, 0.782, 0.7954, 0.7966, 0.8006, 0.8021, 0.804, 0.7926, 0.8067, 0.8036, 0.8127, 0.8034, 0.807, 0.8197, 0.8164, 0.8126, 0.8126, 0.8066, 0.816, 0.817, 0.8048, 0.8066, 0.8177, 0.8105, 0.8123, 0.8142, 0.8103, 0.8209, 0.8182, 0.8126, 0.81, 0.8197, 0.8228]\n",
      "[1.823578759431839, 1.4637365024089812, 1.2281634595394135, 1.07833158493042, 0.9732918342351914, 0.8959833480119705, 0.8335411930084229, 0.7871050728559494, 0.7414613952040672, 0.7087118167877198, 0.6844031695127487, 0.6559768668413162, 0.6292912499904633, 0.6124592819809913, 0.5975076223611832, 0.5747438483834266, 0.5631875182390214, 0.545543396115303, 0.5347815962433815, 0.518429337143898, 0.5087720002532006, 0.506503874361515, 0.49324615973234176, 0.48459212106466293, 0.4806134970784187, 0.4720169730782509, 0.4669022727608681, 0.4592704848945141, 0.4560584778189659, 0.44802687418460846, 0.4477610519826412, 0.4425242375135422, 0.4349476715326309, 0.4306939026713371, 0.4282293246686459, 0.4240724654495716, 0.4225735177397728, 0.41656238651275634, 0.4165205473899841, 0.41421641594171527, 0.40969213318824765, 0.41077164828777313, 0.4006931826174259, 0.4016687160432339, 0.39765263673663137, 0.39544258373975755, 0.3956300004720688, 0.39024264949560167, 0.3895509415268898, 0.3891024965643883]\n",
      "[0.4271, 0.5312, 0.5573, 0.6303, 0.6399, 0.6736, 0.7058, 0.7186, 0.7155, 0.7166, 0.7373, 0.7433, 0.7512, 0.7546, 0.7597, 0.7755, 0.77, 0.7621, 0.7955, 0.7762, 0.7811, 0.7927, 0.7936, 0.7933, 0.7887, 0.8038, 0.8012, 0.7984, 0.7922, 0.8077, 0.7991, 0.8033, 0.7988, 0.8019, 0.8045, 0.8062, 0.8117, 0.8145, 0.808, 0.8146, 0.8165, 0.8134, 0.8189, 0.8103, 0.8246, 0.8107, 0.8128, 0.8214, 0.8168, 0.801]\n",
      "[1.8298265397548676, 1.4782645082473755, 1.2579273799657822, 1.129394558429718, 1.0253578934669494, 0.9404276911020278, 0.876590399980545, 0.8261922956705093, 0.7791939206123352, 0.7503766855001449, 0.7137639272809029, 0.6896591309309006, 0.6687369003891945, 0.6446507947444916, 0.626633246421814, 0.6091343842744827, 0.5902042046189309, 0.5743116618990898, 0.5630188592076302, 0.5468986037373543, 0.5419146537780761, 0.5313312437534332, 0.5218257454037666, 0.5095826528668403, 0.5035458028912544, 0.4936305021941662, 0.48832822966575623, 0.48487204402685163, 0.4726283401846886, 0.4689131681621075, 0.4666742098331451, 0.45945748868584635, 0.45243425756692884, 0.4439711163640022, 0.4466397789120674, 0.44039566668868063, 0.4306079844236374, 0.43041042670607566, 0.4297329321801662, 0.42330670619010924, 0.42009230679273607, 0.42336381328105926, 0.4125355016887188, 0.41728899538517, 0.4056803980767727, 0.41262644734978676, 0.40581514590978623, 0.40407835295796396, 0.39954380798339845, 0.3983003200590611]\n",
      "[0.4294, 0.4858, 0.5407, 0.5952, 0.6374, 0.6593, 0.665, 0.6585, 0.6969, 0.6999, 0.7132, 0.7295, 0.7292, 0.7224, 0.7376, 0.7481, 0.7501, 0.7621, 0.7652, 0.7615, 0.7665, 0.7712, 0.7777, 0.7818, 0.7691, 0.7777, 0.7835, 0.7982, 0.7946, 0.7938, 0.7918, 0.7904, 0.7944, 0.8077, 0.7993, 0.7947, 0.798, 0.7935, 0.8011, 0.7971, 0.8097, 0.8051, 0.8118, 0.7988, 0.8062, 0.804, 0.8104, 0.8088, 0.8186, 0.8136]\n",
      "[1.8996278886795044, 1.5706191513538361, 1.3682213852405547, 1.2151682554483414, 1.1067099083662033, 1.0253218122720718, 0.9724445035457611, 0.9203386579751969, 0.8723218010663987, 0.8375169742107391, 0.8047999401092529, 0.7697437773346901, 0.7457385548949241, 0.7221961395144463, 0.6932713117003441, 0.6749764235019684, 0.6557447463870049, 0.6508342332839966, 0.6292471618652343, 0.6190152254104614, 0.6018441151380539, 0.5878109948635102, 0.5797769842147827, 0.5679273238778114, 0.5545316076874733, 0.5458688767552375, 0.5444572178721427, 0.5322536829113961, 0.5261509551405906, 0.5072606239914894, 0.5147605466246605, 0.5062011016011239, 0.5014975633025169, 0.4949054228663444, 0.49129357743263247, 0.4825431238412857, 0.48243793708086014, 0.4683757130801678, 0.47166068854928017, 0.4666946814060211, 0.4620511644482613, 0.4582053716778755, 0.4499067622721195, 0.452682978540659, 0.4444152635931969, 0.44262481838464734, 0.4418543200790882, 0.4386739693582058, 0.43676602020859717, 0.43148914670944216]\n",
      "[0.4392, 0.4888, 0.5428, 0.5893, 0.6035, 0.6293, 0.6502, 0.6599, 0.6861, 0.69, 0.7041, 0.7048, 0.7149, 0.7251, 0.7283, 0.7262, 0.7315, 0.7235, 0.7459, 0.7532, 0.7406, 0.7463, 0.7534, 0.7537, 0.7585, 0.7597, 0.7627, 0.7552, 0.7664, 0.7641, 0.7648, 0.7641, 0.7767, 0.7703, 0.7711, 0.7802, 0.783, 0.7818, 0.785, 0.7828, 0.7779, 0.7693, 0.7776, 0.7839, 0.7722, 0.7838, 0.771, 0.7808, 0.7743, 0.7844]\n",
      "[1.900777953147888, 1.5279319050312041, 1.3521802558898925, 1.2321704697608948, 1.1366109294891358, 1.0696332174539567, 1.0043596764802933, 0.9593519175052643, 0.915808606505394, 0.8704018286466598, 0.8490522010326386, 0.8191472568511963, 0.7980212000608444, 0.7736454157829284, 0.756549462378025, 0.737271067917347, 0.7205685292482376, 0.7125557234287262, 0.6944256476163864, 0.6756950797438621, 0.6659698786735535, 0.6536841413378716, 0.643617283821106, 0.6316266063451766, 0.6252205004096031, 0.610202008664608, 0.6080430637001991, 0.6002714957594871, 0.5951361901164055, 0.5874417433738709, 0.5803516800403595, 0.575840576171875, 0.5687255341410636, 0.5671221691966056, 0.5590096967220306, 0.5573353133797646, 0.5505769212841988, 0.5472562804818153, 0.5398654275536537, 0.5375902436375618, 0.5305149205327034, 0.533547342300415, 0.5284234342575074, 0.5221012728214264, 0.524155785381794, 0.5140237318873405, 0.511617979168892, 0.5148578103780747, 0.5040368761122227, 0.5061121578216553]\n"
     ]
    }
   ],
   "source": [
    "acc_ori = get50_from_file('./../result/acc_ori.txt')\n",
    "loss_ori = get50_from_file('./../result/loss_ori.txt')\n",
    "\n",
    "acc_125 = get50_from_file('./../result/acc_0.125.txt')\n",
    "loss_125 = get50_from_file('./../result/loss_0.125.txt')\n",
    "\n",
    "acc_25 = get50_from_file('./../result/acc_0.25.txt')\n",
    "loss_25 = get50_from_file('./../result/loss_0.25.txt')\n",
    "\n",
    "acc_50 = get50_from_file('./../result/acc_0.50.txt')\n",
    "loss_50 = get50_from_file('./../result/loss_0.50.txt')\n",
    "\n",
    "acc_75 = get50_from_file('./../result/acc_0.75.txt')\n",
    "loss_75 = get50_from_file('./../result/loss_0.75.txt')"
   ]
  },
  {
   "cell_type": "markdown",
   "metadata": {},
   "source": [
    "不同ratio下损失值和准确率的对比。"
   ]
  },
  {
   "cell_type": "code",
   "execution_count": 6,
   "metadata": {},
   "outputs": [
    {
     "data": {
      "image/png": "[encoded data removed]",
      "text/plain": [
       "<Figure size 432x288 with 1 Axes>"
      ]
     },
     "metadata": {
      "needs_background": "light"
     },
     "output_type": "display_data"
    }
   ],
   "source": [
    "x = np.array(range(len(acc_ori)))\n",
    "y0 = np.array(loss_ori)\n",
    "y1 = np.array(loss_125)\n",
    "y2 = np.array(loss_25)\n",
    "y3 = np.array(loss_50)\n",
    "y4 = np.array(loss_75)\n",
    "plt.plot(x, y0, c='b', label='ResnetOrigin')\n",
    "plt.plot(x, y1, c='g', label='OCtaveResNet(0.125)')\n",
    "plt.plot(x, y2, c='r', label='OCtaveResNet(0.25)')\n",
    "plt.plot(x, y3, c='y', label='OCtaveResNet(0.50)')\n",
    "plt.plot(x, y4, c='#171111', label='OCtaveResNet(0.75)')\n",
    "plt.legend(loc='upper right')\n",
    "plt.axis()\n",
    "plt.title('{} curve'.format('Loss'))\n",
    "plt.xlabel('epoch')\n",
    "plt.ylabel('{}'.format('Loss'))\n",
    "plt.show()"
   ]
  },
  {
   "cell_type": "code",
   "execution_count": 7,
   "metadata": {},
   "outputs": [
    {
     "data": {
      "image/png": "[encoded data removed]",
      "text/plain": [
       "<Figure size 432x288 with 1 Axes>"
      ]
     },
     "metadata": {
      "needs_background": "light"
     },
     "output_type": "display_data"
    }
   ],
   "source": [
    "x = np.array(range(len(acc_ori)))\n",
    "y0 = np.array(acc_ori)\n",
    "y1 = np.array(acc_125)\n",
    "y2 = np.array(acc_25)\n",
    "y3 = np.array(acc_50)\n",
    "y4 = np.array(acc_75)\n",
    "plt.plot(x, y0, c='b', label='ResnetOrigin')\n",
    "plt.plot(x, y1, c='g', label='OCtaveResNet(0.125)')\n",
    "plt.plot(x, y2, c='r', label='OCtaveResNet(0.25)')\n",
    "plt.plot(x, y3, c='y', label='OCtaveResNet(0.50)')\n",
    "plt.plot(x, y4, c='#171111', label='OCtaveResNet(0.75)')\n",
    "plt.legend(loc='lower right')\n",
    "plt.axis()\n",
    "plt.title('{} curve'.format('Acc'))\n",
    "plt.xlabel('epoch')\n",
    "plt.ylabel('{}'.format('Acc'))\n",
    "plt.show()"
   ]
  },
  {
   "cell_type": "markdown",
   "metadata": {},
   "source": [
    "在alpha为0.125时去掉部分信息交流后的结果。"
   ]
  },
  {
   "cell_type": "code",
   "execution_count": 3,
   "metadata": {},
   "outputs": [
    {
     "name": "stdout",
     "output_type": "stream",
     "text": [
      "[0.4461, 0.5311, 0.5859, 0.6379, 0.6658, 0.6929, 0.6991, 0.7138, 0.7319, 0.7339, 0.7442, 0.754, 0.7636, 0.7614, 0.7717, 0.7754, 0.786, 0.7858, 0.782, 0.7954, 0.7966, 0.8006, 0.8021, 0.804, 0.7926, 0.8067, 0.8036, 0.8127, 0.8034, 0.807, 0.8197, 0.8164, 0.8126, 0.8126, 0.8066, 0.816, 0.817, 0.8048, 0.8066, 0.8177, 0.8105, 0.8123, 0.8142, 0.8103, 0.8209, 0.8182, 0.8126, 0.81, 0.8197, 0.8228]\n",
      "[1.823578759431839, 1.4637365024089812, 1.2281634595394135, 1.07833158493042, 0.9732918342351914, 0.8959833480119705, 0.8335411930084229, 0.7871050728559494, 0.7414613952040672, 0.7087118167877198, 0.6844031695127487, 0.6559768668413162, 0.6292912499904633, 0.6124592819809913, 0.5975076223611832, 0.5747438483834266, 0.5631875182390214, 0.545543396115303, 0.5347815962433815, 0.518429337143898, 0.5087720002532006, 0.506503874361515, 0.49324615973234176, 0.48459212106466293, 0.4806134970784187, 0.4720169730782509, 0.4669022727608681, 0.4592704848945141, 0.4560584778189659, 0.44802687418460846, 0.4477610519826412, 0.4425242375135422, 0.4349476715326309, 0.4306939026713371, 0.4282293246686459, 0.4240724654495716, 0.4225735177397728, 0.41656238651275634, 0.4165205473899841, 0.41421641594171527, 0.40969213318824765, 0.41077164828777313, 0.4006931826174259, 0.4016687160432339, 0.39765263673663137, 0.39544258373975755, 0.3956300004720688, 0.39024264949560167, 0.3895509415268898, 0.3891024965643883]\n",
      "[0.3992, 0.5061, 0.5742, 0.6103, 0.634, 0.6712, 0.6902, 0.7092, 0.7235, 0.741, 0.7485, 0.7511, 0.7574, 0.7707, 0.7722, 0.7708, 0.7687, 0.7748, 0.7825, 0.7832, 0.7885, 0.7957, 0.7831, 0.7973, 0.7861, 0.7895, 0.7969, 0.8009, 0.7917, 0.7947, 0.8022, 0.8042, 0.8109, 0.8, 0.8049, 0.8053, 0.7991, 0.8122, 0.8107, 0.8033, 0.8106, 0.8134, 0.8108, 0.8157, 0.8092, 0.8182, 0.8067, 0.8121, 0.8223, 0.8008]\n",
      "[1.9114527361392974, 1.5161916644573212, 1.2854428254365922, 1.1323309195041658, 1.0226984231472016, 0.9290371824502945, 0.8676841540336608, 0.8093572454452514, 0.7634892758131028, 0.7235118595361709, 0.6895208806395531, 0.6673124056458474, 0.6447740637660027, 0.6235944600105285, 0.6063154084682465, 0.5930590357780456, 0.5717951822280883, 0.5573548050522804, 0.5499749196767807, 0.5366084396243095, 0.5254820917248726, 0.5130211370587349, 0.4996733073592186, 0.4996381661891937, 0.49186966267228127, 0.48214160323143007, 0.4778028726875782, 0.4725499130487442, 0.46157607358694075, 0.46389002943038943, 0.44963339805603025, 0.44720841792225835, 0.4465830783843994, 0.4388104100227356, 0.43457497173547743, 0.4270152117013931, 0.42974491345882415, 0.42379521048069, 0.418022821366787, 0.41838249549269674, 0.41362135523557664, 0.4119479504823685, 0.4039060179293156, 0.40691865783929826, 0.39819521573185923, 0.39738915687799453, 0.39749929440021514, 0.39857140904664995, 0.39347423493862155, 0.3923154363930225]\n",
      "[0.4287, 0.504, 0.5909, 0.6221, 0.6642, 0.6906, 0.708, 0.7255, 0.7394, 0.728, 0.7648, 0.7475, 0.7673, 0.7738, 0.7736, 0.7844, 0.7671, 0.783, 0.7877, 0.7857, 0.7845, 0.793, 0.7894, 0.8027, 0.7979, 0.7955, 0.7938, 0.808, 0.8085, 0.7975, 0.8109, 0.8045, 0.803, 0.8071, 0.8057, 0.7948, 0.806, 0.8093, 0.8168, 0.8091, 0.8119, 0.8016, 0.8156, 0.8089, 0.8141, 0.8246, 0.8197, 0.8125, 0.8145, 0.8149]\n",
      "[1.8646398932933808, 1.4991108944416047, 1.2856098160743714, 1.094620181083679, 0.9812615574598312, 0.9016583127975464, 0.8404023056030273, 0.7833192098140717, 0.7490396001338959, 0.7146899865269661, 0.6809677619338036, 0.6597731739878655, 0.6335672867894173, 0.6195141359567642, 0.5963009281754493, 0.5781610258817673, 0.5668410266041756, 0.5534312979578971, 0.5394434407055378, 0.528241481423378, 0.5192257707715034, 0.5067003346979618, 0.503187465429306, 0.49611586636304855, 0.48429666286706924, 0.4801796934008598, 0.47627354025840757, 0.46681713265180586, 0.4581060394048691, 0.45427565431594846, 0.44956922927498816, 0.4433337731957436, 0.44054311484098435, 0.4392297353446484, 0.43253320643305776, 0.4330692203938961, 0.42356846839189527, 0.42108148777484894, 0.4173792029321194, 0.4140862955451012, 0.4111944102942944, 0.41055915239453317, 0.4076499297618866, 0.40487015253305436, 0.3992137719094753, 0.4027365483343601, 0.3906451431512833, 0.3946304223239422, 0.3918378284871578, 0.38972662404179576]\n",
      "[0.4723, 0.5239, 0.6017, 0.6546, 0.6851, 0.7167, 0.7066, 0.7288, 0.7446, 0.7485, 0.7525, 0.7816, 0.7726, 0.773, 0.7721, 0.7745, 0.7767, 0.7787, 0.7798, 0.791, 0.7877, 0.7909, 0.8039, 0.7942, 0.7976, 0.8015, 0.8028, 0.8012, 0.8152, 0.8099, 0.8118, 0.8038, 0.8056, 0.8029, 0.8147, 0.8054, 0.8151, 0.8078, 0.8153, 0.8163, 0.8173, 0.8248, 0.8151, 0.81, 0.8062, 0.8141, 0.809, 0.8017, 0.8179, 0.8091]\n",
      "[1.7918351843357085, 1.4605805411338806, 1.2208866112232208, 1.0519064000844955, 0.9407275152206421, 0.861357158780098, 0.8016668260097504, 0.7536797028779983, 0.7183543597459793, 0.6840698140859603, 0.6583364075422287, 0.6342255917787551, 0.6139672935009003, 0.5995792705416679, 0.5818180180788041, 0.5698433091044426, 0.5464483874440194, 0.5433331935405731, 0.5256829043030739, 0.5221572886705399, 0.5087943656444549, 0.49940137618780134, 0.4935851765871048, 0.48328399446606635, 0.47946461334824564, 0.47182980489730836, 0.46694816240668297, 0.45739043587446215, 0.4542919301688671, 0.4499820284843445, 0.4471558602452278, 0.44496912670135497, 0.4390021598935127, 0.43716659542918207, 0.4339721990525722, 0.42615756195783616, 0.42540917912125586, 0.42263121500611306, 0.41671910455822947, 0.4182362836897373, 0.41464252305030824, 0.4075958577990532, 0.40527199205756187, 0.400915982156992, 0.40262581264972686, 0.40017430660128595, 0.39902125093340873, 0.39141265824437144, 0.3947391165792942, 0.3917895832955837]\n"
     ]
    }
   ],
   "source": [
    "acc_125 = get50_from_file('./../result/acc_0.125.txt')\n",
    "loss_125 = get50_from_file('./../result/loss_0.125.txt')\n",
    "\n",
    "acc_hl = get50_from_file('./../result/acc_h_l.txt')\n",
    "loss_hl = get50_from_file('./../result/loss_h_l.txt')\n",
    "\n",
    "acc_lh = get50_from_file('./../result/acc_l_h.txt')\n",
    "loss_lh = get50_from_file('./../result/loss_l_h.txt')\n",
    "\n",
    "acc_00 = get50_from_file('./../result/acc_0_0.txt')\n",
    "loss_00 = get50_from_file('./../result/loss_0_0.txt')"
   ]
  },
  {
   "cell_type": "code",
   "execution_count": 4,
   "metadata": {},
   "outputs": [
    {
     "data": {
      "image/png": "[encoded data removed]",
      "text/plain": [
       "<Figure size 432x288 with 1 Axes>"
      ]
     },
     "metadata": {
      "needs_background": "light"
     },
     "output_type": "display_data"
    }
   ],
   "source": [
    "x = np.array(range(len(loss_125)))\n",
    "y0 = np.array(loss_125)\n",
    "y1 = np.array(loss_hl)\n",
    "y2 = np.array(loss_00)\n",
    "y3 = np.array(loss_lh)\n",
    "plt.plot(x, y0, c='b', label='OCtaveResNet')\n",
    "plt.plot(x, y1, c='g', label='OCtaveResNet(del h2l)')\n",
    "plt.plot(x, y2, c='r', label='OCtaveResNet(no con)')\n",
    "plt.plot(x, y3, c='y', label='OCtaveResNet(del l2h)')\n",
    "plt.legend(loc='upper right')\n",
    "plt.axis()\n",
    "plt.title('{} curve'.format('Loss'))\n",
    "plt.xlabel('epoch')\n",
    "plt.ylabel('{}'.format('Loss'))\n",
    "plt.show()"
   ]
  },
  {
   "cell_type": "code",
   "execution_count": 5,
   "metadata": {},
   "outputs": [
    {
     "data": {
      "image/png": "[encoded data removed]",
      "text/plain": [
       "<Figure size 432x288 with 1 Axes>"
      ]
     },
     "metadata": {
      "needs_background": "light"
     },
     "output_type": "display_data"
    }
   ],
   "source": [
    "x = np.array(range(len(acc_125)))\n",
    "y0 = np.array(acc_125)\n",
    "y1 = np.array(acc_hl)\n",
    "y2 = np.array(acc_00)\n",
    "y3 = np.array(acc_lh)\n",
    "plt.plot(x, y0, c='b', label='OCtaveResNet')\n",
    "plt.plot(x, y1, c='g', label='OCtaveResNet(del h2l)')\n",
    "plt.plot(x, y2, c='r', label='OCtaveResNet(no con)')\n",
    "plt.plot(x, y3, c='y', label='OCtaveResNet(del l2h)')\n",
    "plt.legend(loc='lower right')\n",
    "plt.axis()\n",
    "plt.title('{} curve'.format('Acc'))\n",
    "plt.xlabel('epoch')\n",
    "plt.ylabel('{}'.format('Acc'))\n",
    "plt.show()"
   ]
  },
  {
   "cell_type": "markdown",
   "metadata": {},
   "source": [
    "原始的数据。不用每场都跑，可以从文件当中取出来"
   ]
  },
  {
   "cell_type": "code",
   "execution_count": null,
   "metadata": {},
   "outputs": [],
   "source": [
    "origin_model = resnet50()\n",
    "origin_model.to(device)\n",
    "\n",
    "criterion = nn.CrossEntropyLoss()\n",
    "optimizer = optim.Adam(origin_model.parameters(), lr=lr,weight_decay=5e-4)"
   ]
  },
  {
   "cell_type": "code",
   "execution_count": null,
   "metadata": {},
   "outputs": [],
   "source": [
    "origin_model, loss_arr0, acc_arr0 = train(epochs, origin_model, criterion, optimizer, device, trainloader, testloader)"
   ]
  },
  {
   "cell_type": "code",
   "execution_count": null,
   "metadata": {},
   "outputs": [],
   "source": [
    "save_path = './../model/model_resnet50_ori.pt'\n",
    "torch.save(model_origin.state_dict(), save_path)"
   ]
  }
 ],
 "metadata": {
  "kernelspec": {
   "display_name": "Python 3",
   "language": "python",
   "name": "python3"
  },
  "language_info": {
   "codemirror_mode": {
    "name": "ipython",
    "version": 3
   },
   "file_extension": ".py",
   "mimetype": "text/x-python",
   "name": "python",
   "nbconvert_exporter": "python",
   "pygments_lexer": "ipython3",
   "version": "3.6.8"
  }
 },
 "nbformat": 4,
 "nbformat_minor": 2
}
